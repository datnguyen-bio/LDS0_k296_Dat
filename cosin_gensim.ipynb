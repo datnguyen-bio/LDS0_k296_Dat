{
 "cells": [
  {
   "cell_type": "code",
   "execution_count": 1,
   "metadata": {},
   "outputs": [],
   "source": [
    "import csv\n",
    "from collections import defaultdict\n",
    "import numpy as np\n",
    "from sklearn.feature_extraction.text import TfidfVectorizer\n",
    "from sklearn.metrics.pairwise import cosine_similarity\n",
    "import gensim\n",
    "from gensim import corpora"
   ]
  },
  {
   "cell_type": "code",
   "execution_count": 8,
   "metadata": {},
   "outputs": [],
   "source": [
    "# Load the hotel comments data\n",
    "comments = []\n",
    "hotel_ids = []\n",
    "with open('hotel_comments_6.csv', 'r', newline='', encoding='utf-8-sig') as input_file:\n",
    "    reader = csv.DictReader(input_file)\n",
    "    for row in reader:\n",
    "        comments.append(row['Body'])\n",
    "        hotel_ids.append(row['Hotel ID'])\n",
    "\n",
    "# Split the comments into words\n",
    "tokenized_comments = [comment.lower().split() for comment in comments]\n",
    "\n",
    "# Create a dictionary from the tokenized comments\n",
    "dictionary = corpora.Dictionary(tokenized_comments)\n",
    "\n",
    "# Create a corpus from the tokenized comments\n",
    "corpus = [dictionary.doc2bow(comment) for comment in tokenized_comments]\n",
    "\n",
    "# Train a TF-IDF model\n",
    "tfidf = gensim.models.TfidfModel(corpus)\n",
    "tfidf_corpus = tfidf[corpus]\n",
    "\n",
    "# Calculate the cosine similarity matrix using Gensim\n",
    "similarity_matrix = gensim.similarities.SparseMatrixSimilarity(tfidf_corpus, num_features=len(dictionary))\n",
    "\n",
    "# Define a function to get the top N most similar hotel IDs\n",
    "def get_top_n_similar(comment_index, n=5):\n",
    "    sims = similarity_matrix[tfidf_corpus[comment_index]]\n",
    "    sorted_sims = sorted(enumerate(sims), key=lambda item: -item[1])\n",
    "    similar_indices = [i for i, _ in sorted_sims[1:n+1]]\n",
    "    similar_scores = [score for _, score in sorted_sims[1:n+1]]\n",
    "    similar_hotel_ids = [hotel_ids[i] for i in similar_indices]\n",
    "    return similar_hotel_ids, similar_scores\n"
   ]
  },
  {
   "cell_type": "code",
   "execution_count": 11,
   "metadata": {},
   "outputs": [
    {
     "name": "stdout",
     "output_type": "stream",
     "text": [
      "Target comment: khách sạn có vị trí trung tâm và sát biển. nhân viên vui vẻ, thân thiện, mình check-in gặp bạn tiếp tân tên lĩnh và bạn nhận hành lý tên hiếu hỗ trợ rất nhiệt tình ! phòng khách sạn rộng rãi , thoáng, phòng view biển quá đẹp ! điều mình không thích lắm là nhà hàng ăn sáng hơi nóng, đi đâu phải chờ thang máy khá lâu và bên trong thang máy không có máy lạnh. lần sau đến nha trang mình cũng sẽ quay lại ks này.\n",
      "Hotel ID của comment có mức similar cao nhất với target:\n",
      "1. 1_23 (Similarity score: 0.36)\n",
      "2. 18_12 (Similarity score: 0.35)\n",
      "3. 18_12 (Similarity score: 0.33)\n",
      "4. 12_2 (Similarity score: 0.32)\n",
      "5. 10_12 (Similarity score: 0.32)\n"
     ]
    }
   ],
   "source": [
    "# Example\n",
    "target_comment_index = 4\n",
    "top_n_similar, top_n_scores = get_top_n_similar(target_comment_index, n=5)\n",
    "\n",
    "print(f\"Target comment: {comments[target_comment_index]}\")\n",
    "print(\"Hotel ID của comment có mức similar cao nhất với target:\")\n",
    "for i, (comment, score) in enumerate(zip(top_n_similar, top_n_scores), start=1):\n",
    "    print(f\"{i}. {comment} (Similarity score: {score:.2f})\")"
   ]
  },
  {
   "cell_type": "code",
   "execution_count": null,
   "metadata": {},
   "outputs": [],
   "source": []
  }
 ],
 "metadata": {
  "kernelspec": {
   "display_name": "Python 3",
   "language": "python",
   "name": "python3"
  },
  "language_info": {
   "codemirror_mode": {
    "name": "ipython",
    "version": 3
   },
   "file_extension": ".py",
   "mimetype": "text/x-python",
   "name": "python",
   "nbconvert_exporter": "python",
   "pygments_lexer": "ipython3",
   "version": "3.11.9"
  }
 },
 "nbformat": 4,
 "nbformat_minor": 2
}
