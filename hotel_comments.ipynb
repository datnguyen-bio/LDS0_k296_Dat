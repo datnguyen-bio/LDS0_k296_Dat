{
 "cells": [
  {
   "cell_type": "code",
   "execution_count": 8,
   "metadata": {},
   "outputs": [],
   "source": [
    "import csv\n",
    "import pandas as pd\n",
    "from pandas_profiling import ProfileReport\n",
    "from collections import defaultdict\n",
    "import re\n",
    "import langid"
   ]
  },
  {
   "cell_type": "code",
   "execution_count": 5,
   "metadata": {},
   "outputs": [],
   "source": [
    "# Xóa dòng comment không còn HotelID trong 02hotels.csv\n",
    "# Read the CSV files\n",
    "hotel_info = pd.read_csv('hotel_info_3.csv')\n",
    "hotel_comments = pd.read_csv('hotel_comments.csv')\n",
    "\n",
    "# Get the unique Hotel IDs from 02hotels.csv\n",
    "valid_hotel_ids = hotel_info['Hotel_ID'].unique()\n",
    "\n",
    "# Drop the rows in hotel_comments where Hotel ID is not in the valid_hotel_ids\n",
    "hotel_comments = hotel_comments[hotel_comments['Hotel ID'].isin(valid_hotel_ids)]\n",
    "\n",
    "# Write the updated hotel_comments DataFrame to a new CSV file\n",
    "hotel_comments.to_csv('hotel_comments_2.csv', index=False, encoding='utf-8-sig')"
   ]
  },
  {
   "cell_type": "code",
   "execution_count": 6,
   "metadata": {},
   "outputs": [],
   "source": [
    "# Input file name\n",
    "input_file = 'hotel_comments_2.csv'\n",
    "\n",
    "# Output file name\n",
    "output_file = 'hotel_comments_3.csv'\n",
    "\n",
    "def clean_text(text):\n",
    "    \"\"\"\n",
    "    Clean the text by removing HTML tags, converting to lowercase, and removing leading/trailing whitespace.\n",
    "    \"\"\"\n",
    "    text = re.sub(r'<[^>]+>', '', text)  # Remove HTML tags\n",
    "    text = text.lower().strip()  # Convert to lowercase and remove leading/trailing whitespace\n",
    "    return text\n",
    "\n",
    "# Read the CSV file and find duplicate rows\n",
    "with open(input_file, 'r', newline='', encoding='utf-8-sig') as file:\n",
    "    reader = csv.DictReader(file)\n",
    "    rows = list(reader)\n",
    "\n",
    "# Create a dictionary to store the unique rows\n",
    "unique_rows = defaultdict(list)\n",
    "\n",
    "# Find the duplicate rows\n",
    "for row in rows:\n",
    "    # Clean the text in the 'Body' column\n",
    "    row['Body'] = clean_text(row['Body'])\n",
    "    key = (row['Hotel ID'], row['Reviewer Name'], row['Body'])\n",
    "    unique_rows[key].append(row)\n",
    "\n",
    "# Write the unique rows to the output file\n",
    "with open(output_file, 'w', newline='', encoding='utf-8-sig') as file:\n",
    "    fieldnames = rows[0].keys()\n",
    "    writer = csv.DictWriter(file, fieldnames=fieldnames)\n",
    "    writer.writeheader()\n",
    "\n",
    "    for row_list in unique_rows.values():\n",
    "        if len(row_list) > 1:\n",
    "            # Keep the first row and discard the rest\n",
    "            writer.writerow(row_list[0])\n",
    "        else:\n",
    "            # Write the single unique row\n",
    "            writer.writerow(row_list[0])"
   ]
  },
  {
   "cell_type": "code",
   "execution_count": 7,
   "metadata": {},
   "outputs": [],
   "source": [
    "#Xóa dòng blank trong cột Body\n",
    "# Input file name\n",
    "input_file = 'hotel_comments_3.csv'\n",
    "\n",
    "# Output file name\n",
    "output_file = 'hotel_comments_4.csv'\n",
    "\n",
    "# Read the CSV file and filter out rows with blank \"Body\" values\n",
    "with open(input_file, 'r', newline='', encoding='utf-8-sig') as file:\n",
    "    reader = csv.DictReader(file)\n",
    "    rows = [row for row in reader if row['Body'].strip()]\n",
    "\n",
    "# Write the filtered data to a new CSV file\n",
    "with open(output_file, 'w', newline='', encoding='utf-8-sig') as file:\n",
    "    fieldnames = rows[0].keys()\n",
    "    writer = csv.DictWriter(file, fieldnames=fieldnames)\n",
    "    writer.writeheader()\n",
    "    writer.writerows(rows)"
   ]
  },
  {
   "cell_type": "code",
   "execution_count": 9,
   "metadata": {},
   "outputs": [],
   "source": [
    "# xác định ngôn ngữ của cột Body\n",
    "# Read the CSV file\n",
    "df = pd.read_csv('hotel_comments_4.csv')\n",
    "\n",
    "# Clean the text in the 'Body' column\n",
    "df['Body'] = df['Body'].astype(str).apply(lambda x: ' '.join(x.split()))\n",
    "\n",
    "# Detect the language for each row in the 'Body' column\n",
    "df['Language'] = df['Body'].apply(lambda x: langid.classify(x)[0])\n",
    "\n",
    "# Write the updated DataFrame to a new CSV file\n",
    "df.to_csv('hotel_comments_5.csv', index=False, encoding='utf-8-sig')"
   ]
  },
  {
   "cell_type": "code",
   "execution_count": 10,
   "metadata": {},
   "outputs": [],
   "source": [
    "# Open the input file with UTF-8-SIG encoding\n",
    "with open('hotel_comments_5.csv', 'r', newline='', encoding='utf-8-sig') as input_file:\n",
    "    reader = csv.DictReader(input_file)\n",
    "    \n",
    "    # Open the output file with UTF-8-SIG encoding\n",
    "    with open('hotel_comments_6.csv', 'w', newline='', encoding='utf-8-sig') as output_file:\n",
    "        fieldnames = reader.fieldnames\n",
    "        writer = csv.DictWriter(output_file, fieldnames=fieldnames)\n",
    "        writer.writeheader()\n",
    "        \n",
    "        for row in reader:\n",
    "            # Change commas to dots in the \"Score\" column\n",
    "            row['Score'] = row['Score'].replace(',', '.')\n",
    "            \n",
    "            # Drop the row if the \"Language\" column is not \"vi\"\n",
    "            if row['Language'] != 'vi':\n",
    "                continue\n",
    "            \n",
    "            # Write the row to the output file\n",
    "            writer.writerow(row)"
   ]
  }
 ],
 "metadata": {
  "kernelspec": {
   "display_name": "Python 3",
   "language": "python",
   "name": "python3"
  },
  "language_info": {
   "codemirror_mode": {
    "name": "ipython",
    "version": 3
   },
   "file_extension": ".py",
   "mimetype": "text/x-python",
   "name": "python",
   "nbconvert_exporter": "python",
   "pygments_lexer": "ipython3",
   "version": "3.12.1"
  }
 },
 "nbformat": 4,
 "nbformat_minor": 2
}
